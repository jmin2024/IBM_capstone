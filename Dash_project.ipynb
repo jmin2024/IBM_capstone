{
 "cells": [
  {
   "cell_type": "code",
   "execution_count": 23,
   "id": "156752a8-7ece-4ec5-9916-f73754139f3f",
   "metadata": {},
   "outputs": [
    {
     "name": "stdout",
     "output_type": "stream",
     "text": [
      "Defaulting to user installation because normal site-packages is not writeable\n",
      "Looking in links: /usr/share/pip-wheels\n",
      "Requirement already satisfied: pandas in /opt/conda/envs/anaconda-ai-2024.04-py310/lib/python3.10/site-packages (2.1.4)\n",
      "Requirement already satisfied: dash in ./.local/lib/python3.10/site-packages (2.18.2)\n",
      "Requirement already satisfied: numpy<2,>=1.22.4 in /opt/conda/envs/anaconda-ai-2024.04-py310/lib/python3.10/site-packages (from pandas) (1.26.4)\n",
      "Requirement already satisfied: python-dateutil>=2.8.2 in /opt/conda/envs/anaconda-ai-2024.04-py310/lib/python3.10/site-packages (from pandas) (2.8.2)\n",
      "Requirement already satisfied: pytz>=2020.1 in /opt/conda/envs/anaconda-ai-2024.04-py310/lib/python3.10/site-packages (from pandas) (2023.3.post1)\n",
      "Requirement already satisfied: tzdata>=2022.1 in /opt/conda/envs/anaconda-ai-2024.04-py310/lib/python3.10/site-packages (from pandas) (2023.3)\n",
      "Requirement already satisfied: Flask<3.1,>=1.0.4 in /opt/conda/envs/anaconda-ai-2024.04-py310/lib/python3.10/site-packages (from dash) (2.2.5)\n",
      "Requirement already satisfied: Werkzeug<3.1 in /opt/conda/envs/anaconda-ai-2024.04-py310/lib/python3.10/site-packages (from dash) (2.2.3)\n",
      "Requirement already satisfied: plotly>=5.0.0 in /opt/conda/envs/anaconda-ai-2024.04-py310/lib/python3.10/site-packages (from dash) (5.19.0)\n",
      "Requirement already satisfied: dash-html-components==2.0.0 in ./.local/lib/python3.10/site-packages (from dash) (2.0.0)\n",
      "Requirement already satisfied: dash-core-components==2.0.0 in ./.local/lib/python3.10/site-packages (from dash) (2.0.0)\n",
      "Requirement already satisfied: dash-table==5.0.0 in ./.local/lib/python3.10/site-packages (from dash) (5.0.0)\n",
      "Requirement already satisfied: importlib-metadata in /opt/conda/envs/anaconda-ai-2024.04-py310/lib/python3.10/site-packages (from dash) (7.0.1)\n",
      "Requirement already satisfied: typing-extensions>=4.1.1 in /opt/conda/envs/anaconda-ai-2024.04-py310/lib/python3.10/site-packages (from dash) (4.9.0)\n",
      "Requirement already satisfied: requests in /opt/conda/envs/anaconda-ai-2024.04-py310/lib/python3.10/site-packages (from dash) (2.31.0)\n",
      "Requirement already satisfied: retrying in ./.local/lib/python3.10/site-packages (from dash) (1.3.4)\n",
      "Requirement already satisfied: nest-asyncio in /opt/conda/envs/anaconda-ai-2024.04-py310/lib/python3.10/site-packages (from dash) (1.6.0)\n",
      "Requirement already satisfied: setuptools in /opt/conda/envs/anaconda-ai-2024.04-py310/lib/python3.10/site-packages (from dash) (68.2.2)\n",
      "Requirement already satisfied: Jinja2>=3.0 in /opt/conda/envs/anaconda-ai-2024.04-py310/lib/python3.10/site-packages (from Flask<3.1,>=1.0.4->dash) (3.1.3)\n",
      "Requirement already satisfied: itsdangerous>=2.0 in /opt/conda/envs/anaconda-ai-2024.04-py310/lib/python3.10/site-packages (from Flask<3.1,>=1.0.4->dash) (2.0.1)\n",
      "Requirement already satisfied: click>=8.0 in /opt/conda/envs/anaconda-ai-2024.04-py310/lib/python3.10/site-packages (from Flask<3.1,>=1.0.4->dash) (8.1.7)\n",
      "Requirement already satisfied: tenacity>=6.2.0 in /opt/conda/envs/anaconda-ai-2024.04-py310/lib/python3.10/site-packages (from plotly>=5.0.0->dash) (8.2.3)\n",
      "Requirement already satisfied: packaging in /opt/conda/envs/anaconda-ai-2024.04-py310/lib/python3.10/site-packages (from plotly>=5.0.0->dash) (23.2)\n",
      "Requirement already satisfied: six>=1.5 in /opt/conda/envs/anaconda-ai-2024.04-py310/lib/python3.10/site-packages (from python-dateutil>=2.8.2->pandas) (1.16.0)\n",
      "Requirement already satisfied: MarkupSafe>=2.1.1 in /opt/conda/envs/anaconda-ai-2024.04-py310/lib/python3.10/site-packages (from Werkzeug<3.1->dash) (2.1.3)\n",
      "Requirement already satisfied: zipp>=0.5 in /opt/conda/envs/anaconda-ai-2024.04-py310/lib/python3.10/site-packages (from importlib-metadata->dash) (3.17.0)\n",
      "Requirement already satisfied: charset-normalizer<4,>=2 in /opt/conda/envs/anaconda-ai-2024.04-py310/lib/python3.10/site-packages (from requests->dash) (2.0.4)\n",
      "Requirement already satisfied: idna<4,>=2.5 in /opt/conda/envs/anaconda-ai-2024.04-py310/lib/python3.10/site-packages (from requests->dash) (3.4)\n",
      "Requirement already satisfied: urllib3<3,>=1.21.1 in /opt/conda/envs/anaconda-ai-2024.04-py310/lib/python3.10/site-packages (from requests->dash) (2.0.7)\n",
      "Requirement already satisfied: certifi>=2017.4.17 in /opt/conda/envs/anaconda-ai-2024.04-py310/lib/python3.10/site-packages (from requests->dash) (2024.2.2)\n"
     ]
    }
   ],
   "source": [
    "!pip install pandas dash"
   ]
  },
  {
   "cell_type": "code",
   "execution_count": 24,
   "id": "caf230f3-0530-4a51-8e5a-2ee2487dd64f",
   "metadata": {},
   "outputs": [
    {
     "name": "stdout",
     "output_type": "stream",
     "text": [
      "Defaulting to user installation because normal site-packages is not writeable\n",
      "Looking in links: /usr/share/pip-wheels\n",
      "Requirement already satisfied: jupyter-dash in ./.local/lib/python3.10/site-packages (0.4.2)\n",
      "Requirement already satisfied: dash in ./.local/lib/python3.10/site-packages (from jupyter-dash) (2.18.2)\n",
      "Requirement already satisfied: requests in /opt/conda/envs/anaconda-ai-2024.04-py310/lib/python3.10/site-packages (from jupyter-dash) (2.31.0)\n",
      "Requirement already satisfied: flask in /opt/conda/envs/anaconda-ai-2024.04-py310/lib/python3.10/site-packages (from jupyter-dash) (2.2.5)\n",
      "Requirement already satisfied: retrying in ./.local/lib/python3.10/site-packages (from jupyter-dash) (1.3.4)\n",
      "Requirement already satisfied: ipython in /opt/conda/envs/anaconda-ai-2024.04-py310/lib/python3.10/site-packages (from jupyter-dash) (8.20.0)\n",
      "Requirement already satisfied: ipykernel in /opt/conda/envs/anaconda-ai-2024.04-py310/lib/python3.10/site-packages (from jupyter-dash) (6.28.0)\n",
      "Requirement already satisfied: ansi2html in ./.local/lib/python3.10/site-packages (from jupyter-dash) (1.9.2)\n",
      "Requirement already satisfied: nest-asyncio in /opt/conda/envs/anaconda-ai-2024.04-py310/lib/python3.10/site-packages (from jupyter-dash) (1.6.0)\n",
      "Requirement already satisfied: Werkzeug<3.1 in /opt/conda/envs/anaconda-ai-2024.04-py310/lib/python3.10/site-packages (from dash->jupyter-dash) (2.2.3)\n",
      "Requirement already satisfied: plotly>=5.0.0 in /opt/conda/envs/anaconda-ai-2024.04-py310/lib/python3.10/site-packages (from dash->jupyter-dash) (5.19.0)\n",
      "Requirement already satisfied: dash-html-components==2.0.0 in ./.local/lib/python3.10/site-packages (from dash->jupyter-dash) (2.0.0)\n",
      "Requirement already satisfied: dash-core-components==2.0.0 in ./.local/lib/python3.10/site-packages (from dash->jupyter-dash) (2.0.0)\n",
      "Requirement already satisfied: dash-table==5.0.0 in ./.local/lib/python3.10/site-packages (from dash->jupyter-dash) (5.0.0)\n",
      "Requirement already satisfied: importlib-metadata in /opt/conda/envs/anaconda-ai-2024.04-py310/lib/python3.10/site-packages (from dash->jupyter-dash) (7.0.1)\n",
      "Requirement already satisfied: typing-extensions>=4.1.1 in /opt/conda/envs/anaconda-ai-2024.04-py310/lib/python3.10/site-packages (from dash->jupyter-dash) (4.9.0)\n",
      "Requirement already satisfied: setuptools in /opt/conda/envs/anaconda-ai-2024.04-py310/lib/python3.10/site-packages (from dash->jupyter-dash) (68.2.2)\n",
      "Requirement already satisfied: Jinja2>=3.0 in /opt/conda/envs/anaconda-ai-2024.04-py310/lib/python3.10/site-packages (from flask->jupyter-dash) (3.1.3)\n",
      "Requirement already satisfied: itsdangerous>=2.0 in /opt/conda/envs/anaconda-ai-2024.04-py310/lib/python3.10/site-packages (from flask->jupyter-dash) (2.0.1)\n",
      "Requirement already satisfied: click>=8.0 in /opt/conda/envs/anaconda-ai-2024.04-py310/lib/python3.10/site-packages (from flask->jupyter-dash) (8.1.7)\n",
      "Requirement already satisfied: comm>=0.1.1 in /opt/conda/envs/anaconda-ai-2024.04-py310/lib/python3.10/site-packages (from ipykernel->jupyter-dash) (0.2.1)\n",
      "Requirement already satisfied: debugpy>=1.6.5 in /opt/conda/envs/anaconda-ai-2024.04-py310/lib/python3.10/site-packages (from ipykernel->jupyter-dash) (1.6.7)\n",
      "Requirement already satisfied: jupyter-client>=6.1.12 in /opt/conda/envs/anaconda-ai-2024.04-py310/lib/python3.10/site-packages (from ipykernel->jupyter-dash) (8.6.0)\n",
      "Requirement already satisfied: jupyter-core!=5.0.*,>=4.12 in /opt/conda/envs/anaconda-ai-2024.04-py310/lib/python3.10/site-packages (from ipykernel->jupyter-dash) (5.5.0)\n",
      "Requirement already satisfied: matplotlib-inline>=0.1 in /opt/conda/envs/anaconda-ai-2024.04-py310/lib/python3.10/site-packages (from ipykernel->jupyter-dash) (0.1.6)\n",
      "Requirement already satisfied: packaging in /opt/conda/envs/anaconda-ai-2024.04-py310/lib/python3.10/site-packages (from ipykernel->jupyter-dash) (23.2)\n",
      "Requirement already satisfied: psutil in /opt/conda/envs/anaconda-ai-2024.04-py310/lib/python3.10/site-packages (from ipykernel->jupyter-dash) (5.9.0)\n",
      "Requirement already satisfied: pyzmq>=24 in /opt/conda/envs/anaconda-ai-2024.04-py310/lib/python3.10/site-packages (from ipykernel->jupyter-dash) (25.1.2)\n",
      "Requirement already satisfied: tornado>=6.1 in /opt/conda/envs/anaconda-ai-2024.04-py310/lib/python3.10/site-packages (from ipykernel->jupyter-dash) (6.3.3)\n",
      "Requirement already satisfied: traitlets>=5.4.0 in /opt/conda/envs/anaconda-ai-2024.04-py310/lib/python3.10/site-packages (from ipykernel->jupyter-dash) (5.7.1)\n",
      "Requirement already satisfied: decorator in /opt/conda/envs/anaconda-ai-2024.04-py310/lib/python3.10/site-packages (from ipython->jupyter-dash) (5.1.1)\n",
      "Requirement already satisfied: jedi>=0.16 in /opt/conda/envs/anaconda-ai-2024.04-py310/lib/python3.10/site-packages (from ipython->jupyter-dash) (0.18.1)\n",
      "Requirement already satisfied: prompt-toolkit<3.1.0,>=3.0.41 in /opt/conda/envs/anaconda-ai-2024.04-py310/lib/python3.10/site-packages (from ipython->jupyter-dash) (3.0.43)\n",
      "Requirement already satisfied: pygments>=2.4.0 in /opt/conda/envs/anaconda-ai-2024.04-py310/lib/python3.10/site-packages (from ipython->jupyter-dash) (2.15.1)\n",
      "Requirement already satisfied: stack-data in /opt/conda/envs/anaconda-ai-2024.04-py310/lib/python3.10/site-packages (from ipython->jupyter-dash) (0.2.0)\n",
      "Requirement already satisfied: exceptiongroup in /opt/conda/envs/anaconda-ai-2024.04-py310/lib/python3.10/site-packages (from ipython->jupyter-dash) (1.2.0)\n",
      "Requirement already satisfied: pexpect>4.3 in /opt/conda/envs/anaconda-ai-2024.04-py310/lib/python3.10/site-packages (from ipython->jupyter-dash) (4.8.0)\n",
      "Requirement already satisfied: charset-normalizer<4,>=2 in /opt/conda/envs/anaconda-ai-2024.04-py310/lib/python3.10/site-packages (from requests->jupyter-dash) (2.0.4)\n",
      "Requirement already satisfied: idna<4,>=2.5 in /opt/conda/envs/anaconda-ai-2024.04-py310/lib/python3.10/site-packages (from requests->jupyter-dash) (3.4)\n",
      "Requirement already satisfied: urllib3<3,>=1.21.1 in /opt/conda/envs/anaconda-ai-2024.04-py310/lib/python3.10/site-packages (from requests->jupyter-dash) (2.0.7)\n",
      "Requirement already satisfied: certifi>=2017.4.17 in /opt/conda/envs/anaconda-ai-2024.04-py310/lib/python3.10/site-packages (from requests->jupyter-dash) (2024.2.2)\n",
      "Requirement already satisfied: six>=1.7.0 in /opt/conda/envs/anaconda-ai-2024.04-py310/lib/python3.10/site-packages (from retrying->jupyter-dash) (1.16.0)\n",
      "Requirement already satisfied: parso<0.9.0,>=0.8.0 in /opt/conda/envs/anaconda-ai-2024.04-py310/lib/python3.10/site-packages (from jedi>=0.16->ipython->jupyter-dash) (0.8.3)\n",
      "Requirement already satisfied: MarkupSafe>=2.0 in /opt/conda/envs/anaconda-ai-2024.04-py310/lib/python3.10/site-packages (from Jinja2>=3.0->flask->jupyter-dash) (2.1.3)\n",
      "Requirement already satisfied: python-dateutil>=2.8.2 in /opt/conda/envs/anaconda-ai-2024.04-py310/lib/python3.10/site-packages (from jupyter-client>=6.1.12->ipykernel->jupyter-dash) (2.8.2)\n",
      "Requirement already satisfied: platformdirs>=2.5 in /opt/conda/envs/anaconda-ai-2024.04-py310/lib/python3.10/site-packages (from jupyter-core!=5.0.*,>=4.12->ipykernel->jupyter-dash) (2.5.2)\n",
      "Requirement already satisfied: ptyprocess>=0.5 in /opt/conda/envs/anaconda-ai-2024.04-py310/lib/python3.10/site-packages (from pexpect>4.3->ipython->jupyter-dash) (0.7.0)\n",
      "Requirement already satisfied: tenacity>=6.2.0 in /opt/conda/envs/anaconda-ai-2024.04-py310/lib/python3.10/site-packages (from plotly>=5.0.0->dash->jupyter-dash) (8.2.3)\n",
      "Requirement already satisfied: wcwidth in /opt/conda/envs/anaconda-ai-2024.04-py310/lib/python3.10/site-packages (from prompt-toolkit<3.1.0,>=3.0.41->ipython->jupyter-dash) (0.2.5)\n",
      "Requirement already satisfied: zipp>=0.5 in /opt/conda/envs/anaconda-ai-2024.04-py310/lib/python3.10/site-packages (from importlib-metadata->dash->jupyter-dash) (3.17.0)\n",
      "Requirement already satisfied: executing in /opt/conda/envs/anaconda-ai-2024.04-py310/lib/python3.10/site-packages (from stack-data->ipython->jupyter-dash) (0.8.3)\n",
      "Requirement already satisfied: asttokens in /opt/conda/envs/anaconda-ai-2024.04-py310/lib/python3.10/site-packages (from stack-data->ipython->jupyter-dash) (2.0.5)\n",
      "Requirement already satisfied: pure-eval in /opt/conda/envs/anaconda-ai-2024.04-py310/lib/python3.10/site-packages (from stack-data->ipython->jupyter-dash) (0.2.2)\n"
     ]
    }
   ],
   "source": [
    "!pip install jupyter-dash\n"
   ]
  },
  {
   "cell_type": "code",
   "execution_count": 27,
   "id": "0029d092-9e2a-42e2-96a7-a5a07545fbd0",
   "metadata": {},
   "outputs": [
    {
     "data": {
      "text/html": [
       "\n",
       "        <iframe\n",
       "            width=\"100%\"\n",
       "            height=\"650\"\n",
       "            src=\"http://127.0.0.1:8050/\"\n",
       "            frameborder=\"0\"\n",
       "            allowfullscreen\n",
       "            \n",
       "        ></iframe>\n",
       "        "
      ],
      "text/plain": [
       "<IPython.lib.display.IFrame at 0x741dc2a3c430>"
      ]
     },
     "metadata": {},
     "output_type": "display_data"
    }
   ],
   "source": [
    "from dash import Dash, dcc, html, Input, Output\n",
    "import pandas as pd\n",
    "import plotly.express as px\n",
    "\n",
    "df0 = pd.read_csv('spacex_launch_dash.csv')\n",
    "data = pd.DataFrame(df0)\n",
    "\n",
    "\n",
    "app = Dash(__name__)\n",
    "\n",
    "# Step 1: Define Layout\n",
    "app.layout = html.Div(children=[\n",
    "                html.H1('SpaceX Launch Records Dashboard',\n",
    "                                        style={'textAlign': 'center', 'color': '#503D36',\n",
    "                                               'font-size': 40}),\n",
    "                dcc.Dropdown(id='site-dropdown',\n",
    "                options=[\n",
    "                    {'label': 'All Sites', 'value': 'ALL'},\n",
    "                    {'label': 'CCAFS LC-40', 'value': 'CCAFS LC-40'},\n",
    "                    {'label': 'KSC LC-39A', 'value': 'KSC LC-39A'},\n",
    "                    {'label': 'VAFB SLC-4E', 'value': 'VAFB SLC-4E'},\n",
    "                    {'label': 'CCAFS SLC-40', 'value': 'CCAFS SLC-40'}\n",
    "                ],\n",
    "                value='ALL',\n",
    "                placeholder=\"Choose a Site\",\n",
    "                searchable=True\n",
    "                ),\n",
    "                html.Br(),\n",
    "\n",
    "                # TASK 2: Add a pie chart to show the total successful launches count for all sites\n",
    "                # If a specific launch site was selected, show the Success vs. Failed counts for the site\n",
    "                html.Div(dcc.Graph(id='success-pie-chart')),\n",
    "                html.Br(),\n",
    "\n",
    "                html.P(\"Payload range (Kg):\"),\n",
    "                # TASK 3: Add a slider to select payload range\n",
    "                \n",
    "                dcc.RangeSlider(id='payload-slider',\n",
    "                min=0, max=10000, step=1000,\n",
    "                marks={i: str(i) for i in range(0, 100001, 1000)},\n",
    "                value=[0, 5000]\n",
    "                ),\n",
    "\n",
    "                # TASK 4: Add a scatter chart to show the correlation between payload and launch success\n",
    "                html.Div(dcc.Graph(id='success-payload-scatter-chart')),\n",
    "\n",
    "                ])\n",
    "               \n",
    "\n",
    "# Function decorator to specify function input and output\n",
    "@app.callback(Output(component_id='success-pie-chart', component_property='figure'),\n",
    "              Input(component_id='site-dropdown', component_property='value'))\n",
    "             \n",
    "\n",
    "def get_pie_chart(entered_site):\n",
    "    if entered_site == 'ALL':\n",
    "        data_all = data[data['class'] == 1]\n",
    "        fig = px.pie(data_all, names='Launch Site', \n",
    "        title='Success for All Sites')\n",
    "    else:\n",
    "        data_site = data[data['Launch Site'] == entered_site]\n",
    "        fig = px.pie(data_site, names='class',  \n",
    "        title = f'Success/Fail for {entered_site}')\n",
    "    return fig\n",
    "\n",
    "\n",
    "@app.callback(Output(component_id='success-payload-scatter-chart', component_property='figure'),\n",
    "              Input(component_id='site-dropdown', component_property='value'),\n",
    "              Input(component_id=\"payload-slider\", component_property=\"value\"))\n",
    "\n",
    "def get_scatter_chart(entered_site, pload):\n",
    "    lower, upper = pload\n",
    "    data_load = data[(data['Payload Mass (kg)'] >= lower) & (data['Payload Mass (kg)'] <= upper)]\n",
    "    data_load['BV'] = data_load['Booster Version'].str.split(\" \").str[1]\n",
    "    \n",
    "    if entered_site == 'ALL':\n",
    "        fig2 = px.scatter(data_load, x='Payload Mass (kg)', y='class', color='BV', \n",
    "        title='Correlation between Payload and Success for All Sites')\n",
    "    else:\n",
    "        data_load_site = data_load[data_load['Launch Site'] == entered_site]\n",
    "        fig2 = px.scatter(data_load_site, x='Payload Mass (kg)', y='class', color='BV', \n",
    "        title= f\"Correlation between Payload and Success for {entered_site}\")\n",
    "    return fig2\n",
    "    \n",
    "# Step 3: Run the App\n",
    "if __name__ == \"__main__\":\n",
    "    app.run_server(debug=True)\n",
    "\n",
    "\n",
    "\n"
   ]
  },
  {
   "cell_type": "code",
   "execution_count": 65,
   "id": "3eab9340-63f4-4ebb-8087-c3fa07ff754b",
   "metadata": {},
   "outputs": [
    {
     "data": {
      "text/plain": [
       "Index(['Unnamed: 0', 'Flight Number', 'Launch Site', 'class',\n",
       "       'Payload Mass (kg)', 'Booster Version', 'Booster Version Category'],\n",
       "      dtype='object')"
      ]
     },
     "execution_count": 65,
     "metadata": {},
     "output_type": "execute_result"
    }
   ],
   "source": [
    "data.columns\n"
   ]
  },
  {
   "cell_type": "code",
   "execution_count": null,
   "id": "8432ea6f-e66d-4828-8e1e-fc063d897b28",
   "metadata": {},
   "outputs": [],
   "source": []
  }
 ],
 "metadata": {
  "kernelspec": {
   "display_name": "anaconda-ai-2024.04-py310",
   "language": "python",
   "name": "conda-env-anaconda-ai-2024.04-py310-py"
  },
  "language_info": {
   "codemirror_mode": {
    "name": "ipython",
    "version": 3
   },
   "file_extension": ".py",
   "mimetype": "text/x-python",
   "name": "python",
   "nbconvert_exporter": "python",
   "pygments_lexer": "ipython3",
   "version": "3.10.13"
  }
 },
 "nbformat": 4,
 "nbformat_minor": 5
}
